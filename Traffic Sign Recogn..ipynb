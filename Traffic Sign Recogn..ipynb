{
 "cells": [
  {
   "cell_type": "markdown",
   "id": "057fd7af",
   "metadata": {},
   "source": [
    "# THE SPARK FOUNDATION #GRIPJUNE23"
   ]
  },
  {
   "cell_type": "markdown",
   "id": "224396b5",
   "metadata": {},
   "source": [
    "## Traffic Sign Classification Sysem- Task 5 (Computer vision and IOT)"
   ]
  },
  {
   "cell_type": "code",
   "execution_count": 11,
   "id": "75399f1f",
   "metadata": {},
   "outputs": [],
   "source": [
    "import numpy as np\n",
    "import pandas as pd\n",
    "import matplotlib.pyplot as plt\n",
    "import cv2\n",
    "import tensorflow as tf\n",
    "from PIL import Image #python Image library\n",
    "import os\n",
    "os.chdir('D:/traffic')\n",
    "from sklearn.model_selection import train_test_split\n",
    "from keras.utils import to_categorical\n",
    "from keras.models import Sequential, load_model\n",
    "from keras.layers import Conv2D, MaxPool2D, Dense, Flatten, Dropout"
   ]
  },
  {
   "cell_type": "code",
   "execution_count": 12,
   "id": "17249492",
   "metadata": {},
   "outputs": [],
   "source": [
    "# data and their labels using a list\n",
    "data = []\n",
    "labels = []\n",
    "classes = 43\n",
    "cur_path = os.getcwd()"
   ]
  },
  {
   "cell_type": "code",
   "execution_count": 13,
   "id": "5258e184",
   "metadata": {},
   "outputs": [],
   "source": [
    "# preprocessing the image\n",
    "for i in range(classes):\n",
    "    path= os.path.join(cur_path,'train',str(i))\n",
    "    images = os.listdir(path)\n",
    "    for a in images:\n",
    "        try:\n",
    "            image = Image.open(path+'\\\\'+a)\n",
    "            image = image.resize((30,30))\n",
    "            image = np.array(image)\n",
    "            data.append(image)\n",
    "            labels.append(i)\n",
    "        except Exception as e:\n",
    "            print(e)"
   ]
  },
  {
   "cell_type": "code",
   "execution_count": 15,
   "id": "39b5a393",
   "metadata": {},
   "outputs": [],
   "source": [
    "# for saving the image date for future use so that we don't have to apply the above for looop again\n",
    "np.save('./training/data',data)\n",
    "np.save('./training/target',labels)"
   ]
  },
  {
   "cell_type": "code",
   "execution_count": 16,
   "id": "01c0c2b1",
   "metadata": {},
   "outputs": [],
   "source": [
    "# loading the data\n",
    "data = np.load('./training/data.npy')\n",
    "lebels = np.load('./training/target.npy')"
   ]
  },
  {
   "cell_type": "code",
   "execution_count": 24,
   "id": "0508eafe",
   "metadata": {},
   "outputs": [
    {
     "data": {
      "text/plain": [
       "(39209, 30, 30, 3)"
      ]
     },
     "execution_count": 24,
     "metadata": {},
     "output_type": "execute_result"
    }
   ],
   "source": [
    "data.shape"
   ]
  },
  {
   "cell_type": "code",
   "execution_count": 25,
   "id": "e133e955",
   "metadata": {},
   "outputs": [],
   "source": [
    "x_train, x_test, y_train, y_test = train_test_split(data,labels,test_size=0.2,random_state=0)"
   ]
  },
  {
   "cell_type": "code",
   "execution_count": 28,
   "id": "707e920f",
   "metadata": {},
   "outputs": [],
   "source": [
    "# converting labels to one hot encoding (43 class)\n",
    "y_train = to_categorical(y_train,43)\n",
    "y_test = to_categorical(y_test,43)"
   ]
  },
  {
   "cell_type": "code",
   "execution_count": 30,
   "id": "337740d6",
   "metadata": {},
   "outputs": [],
   "source": [
    "# building the model\n",
    "model = Sequential()\n",
    "model.add(Conv2D(filters=32,kernel_size=(5,5),activation='relu',input_shape=x_train.shape[1:]))\n",
    "model.add(Conv2D(filters=32,kernel_size=(5,5),activation='relu'))\n",
    "model.add(MaxPool2D(pool_size=(2,2)))\n",
    "model.add(Dropout(rate=0.25))\n",
    "model.add(Conv2D(filters=64,kernel_size=(3,3),activation='relu'))\n",
    "model.add(Conv2D(filters=64,kernel_size=(3,3),activation='relu'))\n",
    "model.add(MaxPool2D(pool_size=(2,2)))\n",
    "model.add(Dropout(rate=0.25))\n",
    "model.add(Flatten())\n",
    "model.add(Dense(256,activation='relu'))\n",
    "model.add(Dropout(rate=0.5))\n",
    "model.add(Dense(43,activation='softmax')) #43 classes"
   ]
  },
  {
   "cell_type": "code",
   "execution_count": 31,
   "id": "83d7b6df",
   "metadata": {},
   "outputs": [],
   "source": [
    "model.compile(loss='categorical_crossentropy',optimizer='adam',metrics=['accuracy'])"
   ]
  },
  {
   "cell_type": "code",
   "execution_count": 35,
   "id": "ccad2a61",
   "metadata": {},
   "outputs": [
    {
     "name": "stdout",
     "output_type": "stream",
     "text": [
      "Epoch 1/20\n",
      "981/981 [==============================] - 103s 104ms/step - loss: 2.7387 - accuracy: 0.2785 - val_loss: 1.3471 - val_accuracy: 0.6422\n",
      "Epoch 2/20\n",
      "981/981 [==============================] - 94s 96ms/step - loss: 1.3140 - accuracy: 0.6028 - val_loss: 0.6286 - val_accuracy: 0.8242\n",
      "Epoch 3/20\n",
      "981/981 [==============================] - 114s 116ms/step - loss: 0.7789 - accuracy: 0.7612 - val_loss: 0.3121 - val_accuracy: 0.9118\n",
      "Epoch 4/20\n",
      "981/981 [==============================] - 108s 110ms/step - loss: 0.4622 - accuracy: 0.8604 - val_loss: 0.1391 - val_accuracy: 0.9616\n",
      "Epoch 5/20\n",
      "981/981 [==============================] - 97s 99ms/step - loss: 0.3355 - accuracy: 0.9007 - val_loss: 0.2179 - val_accuracy: 0.9351\n",
      "Epoch 6/20\n",
      "981/981 [==============================] - 95s 96ms/step - loss: 0.2894 - accuracy: 0.9177 - val_loss: 0.1014 - val_accuracy: 0.9721\n",
      "Epoch 7/20\n",
      "981/981 [==============================] - 99s 101ms/step - loss: 0.2553 - accuracy: 0.9284 - val_loss: 0.0898 - val_accuracy: 0.9746\n",
      "Epoch 8/20\n",
      "981/981 [==============================] - 105s 107ms/step - loss: 0.2581 - accuracy: 0.9280 - val_loss: 0.6215 - val_accuracy: 0.8221\n",
      "Epoch 9/20\n",
      "981/981 [==============================] - 102s 104ms/step - loss: 0.2435 - accuracy: 0.9341 - val_loss: 0.0596 - val_accuracy: 0.9814\n",
      "Epoch 10/20\n",
      "981/981 [==============================] - 100s 102ms/step - loss: 0.2169 - accuracy: 0.9420 - val_loss: 0.0806 - val_accuracy: 0.9796\n",
      "Epoch 11/20\n",
      "981/981 [==============================] - 108s 110ms/step - loss: 0.2112 - accuracy: 0.9442 - val_loss: 0.0767 - val_accuracy: 0.9797\n",
      "Epoch 12/20\n",
      "981/981 [==============================] - 112s 115ms/step - loss: 0.2107 - accuracy: 0.9449 - val_loss: 0.0641 - val_accuracy: 0.9837\n",
      "Epoch 13/20\n",
      "981/981 [==============================] - 105s 107ms/step - loss: 0.2074 - accuracy: 0.9458 - val_loss: 0.0435 - val_accuracy: 0.9872\n",
      "Epoch 14/20\n",
      "981/981 [==============================] - 97s 99ms/step - loss: 0.2075 - accuracy: 0.9456 - val_loss: 0.0901 - val_accuracy: 0.9727\n",
      "Epoch 15/20\n",
      "981/981 [==============================] - 108s 110ms/step - loss: 0.2224 - accuracy: 0.9424 - val_loss: 0.0433 - val_accuracy: 0.9874\n",
      "Epoch 16/20\n",
      "981/981 [==============================] - 115s 117ms/step - loss: 0.2386 - accuracy: 0.9397 - val_loss: 0.0847 - val_accuracy: 0.9777\n",
      "Epoch 17/20\n",
      "981/981 [==============================] - 99s 101ms/step - loss: 0.2240 - accuracy: 0.9438 - val_loss: 0.1043 - val_accuracy: 0.9690\n",
      "Epoch 18/20\n",
      "981/981 [==============================] - 95s 97ms/step - loss: 0.2178 - accuracy: 0.9471 - val_loss: 0.0568 - val_accuracy: 0.9869\n",
      "Epoch 19/20\n",
      "981/981 [==============================] - 90s 92ms/step - loss: 0.2056 - accuracy: 0.9502 - val_loss: 0.0749 - val_accuracy: 0.9814\n",
      "Epoch 20/20\n",
      "981/981 [==============================] - 88s 90ms/step - loss: 0.2002 - accuracy: 0.9525 - val_loss: 0.0820 - val_accuracy: 0.9801\n"
     ]
    }
   ],
   "source": [
    "epochs=20\n",
    "history = model.fit(x_train,y_train,batch_size=32,epochs=epochs,validation_data=(x_test,y_test))"
   ]
  },
  {
   "cell_type": "code",
   "execution_count": 37,
   "id": "7484816a",
   "metadata": {},
   "outputs": [
    {
     "data": {
      "image/png": "[encoded data removed]",
      "text/plain": [
       "<Figure size 1000x1000 with 1 Axes>"
      ]
     },
     "metadata": {},
     "output_type": "display_data"
    }
   ],
   "source": [
    "# accuracy\n",
    "plt.figure(figsize=(10,10))\n",
    "plt.plot(history.history['accuracy'],label='training accuracy')\n",
    "plt.plot(history.history['val_accuracy'],label='val accuracy')\n",
    "plt.title('accuracy')\n",
    "plt.xlabel('epochs')\n",
    "plt.ylabel('accuracy')\n",
    "plt.legend()\n",
    "plt.show()"
   ]
  },
  {
   "cell_type": "code",
   "execution_count": 67,
   "id": "95e3bc45",
   "metadata": {},
   "outputs": [],
   "source": [
    "# testing on test data\n",
    "def testing(testcsv):\n",
    "    y_test = pd.read_csv(testcsv)\n",
    "    label = y_test[\"ClassId\"].values\n",
    "    imgs = y_test[\"Path\"].values\n",
    "    data = []\n",
    "    for img in imgs:\n",
    "        image = Image.open(img)\n",
    "        image = image.resize((30,30))\n",
    "        data.append(np.array(image))\n",
    "    x_test = np.array(data)\n",
    "    return x_test, label"
   ]
  },
  {
   "cell_type": "code",
   "execution_count": 68,
   "id": "f49e07f5",
   "metadata": {},
   "outputs": [],
   "source": [
    "x_test, label = testing('Test.csv')"
   ]
  },
  {
   "cell_type": "code",
   "execution_count": 69,
   "id": "e4c69705",
   "metadata": {},
   "outputs": [
    {
     "name": "stdout",
     "output_type": "stream",
     "text": [
      "395/395 [==============================] - 4s 11ms/step\n"
     ]
    }
   ],
   "source": [
    "y_pred = np.argmax(model.predict(x_test), axis=-1)"
   ]
  },
  {
   "cell_type": "code",
   "execution_count": 70,
   "id": "89e2b4f3",
   "metadata": {},
   "outputs": [
    {
     "data": {
      "text/plain": [
       "(12630,)"
      ]
     },
     "execution_count": 70,
     "metadata": {},
     "output_type": "execute_result"
    }
   ],
   "source": [
    "y_pred.shape"
   ]
  },
  {
   "cell_type": "code",
   "execution_count": 71,
   "id": "4bb1570b",
   "metadata": {},
   "outputs": [
    {
     "data": {
      "text/plain": [
       "0.9418052256532067"
      ]
     },
     "execution_count": 71,
     "metadata": {},
     "output_type": "execute_result"
    }
   ],
   "source": [
    "from sklearn.metrics import accuracy_score\n",
    "accuracy_score(label,y_pred)"
   ]
  },
  {
   "cell_type": "code",
   "execution_count": 72,
   "id": "739f818b",
   "metadata": {},
   "outputs": [],
   "source": [
    "model.save('./training/TSR.h5')"
   ]
  },
  {
   "cell_type": "code",
   "execution_count": 3,
   "id": "70edc12e",
   "metadata": {},
   "outputs": [],
   "source": [
    "# loading the model\n",
    "import os\n",
    "os.chdir(r'D:/traffic')\n",
    "from keras.models import load_model\n",
    "model = load_model('./training//TSR.h5')"
   ]
  },
  {
   "cell_type": "code",
   "execution_count": 4,
   "id": "55372bfb",
   "metadata": {},
   "outputs": [],
   "source": [
    "# Classes of trafic signs\n",
    "classes = { 0:'Speed limit (20km/h)',\n",
    "            1:'Speed limit (30km/h)', \n",
    "            2:'Speed limit (50km/h)', \n",
    "            3:'Speed limit (60km/h)', \n",
    "            4:'Speed limit (70km/h)', \n",
    "            5:'Speed limit (80km/h)', \n",
    "            6:'End of speed limit (80km/h)', \n",
    "            7:'Speed limit (100km/h)', \n",
    "            8:'Speed limit (120km/h)', \n",
    "            9:'No passing', \n",
    "            10:'No passing veh over 3.5 tons', \n",
    "            11:'Right-of-way at intersection', \n",
    "            12:'Priority road', \n",
    "            13:'Yield', \n",
    "            14:'Stop', \n",
    "            15:'No vehicles', \n",
    "            16:'Veh > 3.5 tons prohibited', \n",
    "            17:'No entry', \n",
    "            18:'General caution', \n",
    "            19:'Dangerous curve left', \n",
    "            20:'Dangerous curve right', \n",
    "            21:'Double curve', \n",
    "            22:'Bumpy road', \n",
    "            23:'Slippery road', \n",
    "            24:'Road narrows on the right', \n",
    "            25:'Road work', \n",
    "            26:'Traffic signals', \n",
    "            27:'Pedestrians', \n",
    "            28:'Children crossing', \n",
    "            29:'Bicycles crossing', \n",
    "            30:'Beware of ice/snow',\n",
    "            31:'Wild animals crossing', \n",
    "            32:'End speed + passing limits', \n",
    "            33:'Turn right ahead', \n",
    "            34:'Turn left ahead', \n",
    "            35:'Ahead only', \n",
    "            36:'Go straight or right', \n",
    "            37:'Go straight or left', \n",
    "            38:'Keep right', \n",
    "            39:'Keep left', \n",
    "            40:'Roundabout mandatory', \n",
    "            41:'End of no passing', \n",
    "            42:'End no passing veh > 3.5 tons' }"
   ]
  },
  {
   "cell_type": "code",
   "execution_count": 5,
   "id": "93ef6b7e",
   "metadata": {},
   "outputs": [],
   "source": [
    "from PIL import Image\n",
    "import numpy as np\n",
    "import matplotlib.pyplot as plt\n",
    "\n",
    "def test_on_img(img):\n",
    "    data =[]\n",
    "    image = Image.open(img)\n",
    "    image = image.resize((30,30))\n",
    "    data.append(np.array(image))\n",
    "    x_test = np.array(data)\n",
    "    # old version code: y_pred = model.predict_classes(x_test)\n",
    "    y_pred = np.argmax(model.predict(x_test), axis=-1)\n",
    "    return image,y_pred"
   ]
  },
  {
   "cell_type": "code",
   "execution_count": 6,
   "id": "7a4a9b09",
   "metadata": {},
   "outputs": [],
   "source": [
    "# Select the picture to be predicted"
   ]
  },
  {
   "cell_type": "code",
   "execution_count": 11,
   "id": "d8fb9da2",
   "metadata": {},
   "outputs": [
    {
     "name": "stdout",
     "output_type": "stream",
     "text": [
      "1/1 [==============================] - 0s 29ms/step\n",
      "The sign predicts:  Children crossing\n"
     ]
    },
    {
     "data": {
      "image/png": "[encoded data removed]",
      "text/plain": [
       "<Figure size 150x150 with 1 Axes>"
      ]
     },
     "metadata": {},
     "output_type": "display_data"
    }
   ],
   "source": [
    "plt.figure(figsize=(1.5,1.5))\n",
    "plot, prediction = test_on_img(r'D:/traffic/Test/01356.png') # CHANGE THE INT VALUE OF THE IMAGE TO SEE TH PREDICTION\n",
    "s = [str(i) for i in prediction]\n",
    "a = int(\"\".join(s))\n",
    "print(\"The sign predicts: \",classes[a])\n",
    "plt.imshow(plot)\n",
    "plt.show()"
   ]
  },
  {
   "cell_type": "code",
   "execution_count": null,
   "id": "39f13570",
   "metadata": {},
   "outputs": [],
   "source": []
  },
  {
   "cell_type": "code",
   "execution_count": null,
   "id": "ab652979",
   "metadata": {},
   "outputs": [],
   "source": []
  },
  {
   "cell_type": "code",
   "execution_count": 90,
   "id": "b790fa8c",
   "metadata": {},
   "outputs": [],
   "source": []
  },
  {
   "cell_type": "code",
   "execution_count": null,
   "id": "3ddbd3a1",
   "metadata": {},
   "outputs": [],
   "source": []
  }
 ],
 "metadata": {
  "kernelspec": {
   "display_name": "Python 3 (ipykernel)",
   "language": "python",
   "name": "python3"
  },
  "language_info": {
   "codemirror_mode": {
    "name": "ipython",
    "version": 3
   },
   "file_extension": ".py",
   "mimetype": "text/x-python",
   "name": "python",
   "nbconvert_exporter": "python",
   "pygments_lexer": "ipython3",
   "version": "3.10.5"
  }
 },
 "nbformat": 4,
 "nbformat_minor": 5
}
